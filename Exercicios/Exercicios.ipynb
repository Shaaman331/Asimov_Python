{
 "cells": [
  {
   "cell_type": "code",
   "execution_count": 12,
   "metadata": {},
   "outputs": [
    {
     "name": "stdout",
     "output_type": "stream",
     "text": [
      "Sobrepeso\n",
      "Olá Tarcisio! Seu IMC é 25.22\n"
     ]
    }
   ],
   "source": [
    "#Metodo Input\n",
    "peso = float(input(\"Digite seu peso (em kg): \"))\n",
    "altura = float(input(\"Digite sua altura (em metros): \"))\n",
    "#Calculo do IMC\n",
    "imc = (peso / altura ** 2)\n",
    "#Condicionais\n",
    "if imc < 18.5:\n",
    "    print(\"Abaixo do peso\")\n",
    "elif 18.5 <= imc < 25:\n",
    "    print(\"Peso normal\")\n",
    "elif 25 <= imc < 30:\n",
    "    print(\"Sobrepeso\")\n",
    "\n",
    "#Saudaçao\n",
    "nome_completo= input(\"Digite seu nome completo: \")\n",
    "print(f\"Olá {nome_completo}! Seu IMC é {imc:.2f}\")\n"
   ]
  },
  {
   "cell_type": "code",
   "execution_count": 11,
   "metadata": {},
   "outputs": [
    {
     "name": "stdout",
     "output_type": "stream",
     "text": [
      "Olá ! Seu IMC é 25.68\n"
     ]
    }
   ],
   "source": [
    "# Saudação\n",
    "nome_completo = input(\"Digite seu nome completo: \")\n",
    "imc = 25.6789  # Exemplo de valor de IMC (substitua pelo cálculo real)\n",
    "print(f\"Olá {nome_completo}! Seu IMC é {imc:.2f}\")"
   ]
  },
  {
   "cell_type": "code",
   "execution_count": 1,
   "metadata": {},
   "outputs": [
    {
     "name": "stdout",
     "output_type": "stream",
     "text": [
      "Qual seu nome completo? \n",
      "Olá, Tarcisio\n"
     ]
    }
   ],
   "source": [
    "print(\"Qual seu nome completo? \")\n",
    "nome = input()\n",
    "primeiro_nome = nome.split()[0]\n",
    "print(\"Olá, {}.\".format(primeiro_nome))"
   ]
  },
  {
   "cell_type": "code",
   "execution_count": 2,
   "metadata": {},
   "outputs": [
    {
     "name": "stdout",
     "output_type": "stream",
     "text": [
      "Informe um e-mail: \n",
      "O dominio informado foi: gmail.com\n"
     ]
    }
   ],
   "source": [
    "print(\"Informe um e-mail: \")\n",
    "email = input()\n",
    "domininio = email.split('@')[-1]\n",
    "print(\"O dominio informado foi: {}\".format(domininio))\n"
   ]
  },
  {
   "cell_type": "code",
   "execution_count": 5,
   "metadata": {},
   "outputs": [
    {
     "name": "stdout",
     "output_type": "stream",
     "text": [
      "Bem-vindo à loja de tintas!\n",
      "Informe a área que deseja pintar em metros quadrados:\n",
      "Você precisará de 66.67 litros de tinta\n",
      "Você precisará de 4 latas de tinta\n",
      "O valor total da tinta é: R$1200.00\n"
     ]
    }
   ],
   "source": [
    "import math  # Para usar a função math.ceil (arredondar para cima)\n",
    "\n",
    "print(\"Bem-vindo à loja de tintas!\")\n",
    "print(\"Informe a área que deseja pintar em metros quadrados:\")\n",
    "area = float(input())\n",
    "\n",
    "# Calcula o volume necessário de tinta (1 litro para cada 3 metros quadrados)\n",
    "volume_necessario = area / 3\n",
    "print(\"Você precisará de {:.2f} litros de tinta\".format(volume_necessario))\n",
    "\n",
    "# Calcula o número de latas necessárias (cada lata tem 18 litros)\n",
    "latas = math.ceil(volume_necessario / 18)  # Arredonda para cima\n",
    "print(\"Você precisará de {} latas de tinta\".format(latas))\n",
    "\n",
    "# Solicita o valor da lata de tinta\n",
    "valor_lata = float(input(\"Digite o valor da lata de tinta: R$\"))\n",
    "\n",
    "# Calcula o valor total\n",
    "valor_total = latas * valor_lata\n",
    "print(\"O valor total da tinta é: R${:.2f}\".format(valor_total))"
   ]
  },
  {
   "cell_type": "code",
   "execution_count": 3,
   "metadata": {},
   "outputs": [
    {
     "name": "stdout",
     "output_type": "stream",
     "text": [
      "Calculadora de salário\n",
      "Informe sua remuneração por hora:\n",
      "Informe quantas horas trabalhou por mês:\n",
      "============================================\n",
      "1. Salário bruto: R$ 9000.00\n",
      "2. Valor pago ao IR (11%): R$ 990.00\n",
      "3. Valor pago ao INSS (8%): R$ 720.00\n",
      "4. Valor pago ao sindicato (5%): R$ 450.00\n",
      "5. Salário líquido: R$ 6840.00\n",
      "============================================\n"
     ]
    }
   ],
   "source": [
    "print(\"Calculadora de salário\")\n",
    "print(\"Informe sua remuneração por hora:\")\n",
    "valor_por_hora = float(input())\n",
    "print(\"Informe quantas horas trabalhou por mês:\")\n",
    "horas_trabalhadas = float(input())\n",
    "\n",
    "# Cálculo do salário bruto\n",
    "salario_bruto = valor_por_hora * horas_trabalhadas\n",
    "\n",
    "# Cálculo dos descontos\n",
    "ir = 0.11 * salario_bruto  # Imposto de Renda (11%)\n",
    "inss = 0.08 * salario_bruto  # INSS (8%)\n",
    "sindicato = 0.05 * salario_bruto  # Sindicato (5%)\n",
    "\n",
    "# Cálculo do salário líquido\n",
    "salario_liquido = salario_bruto - ir - inss - sindicato\n",
    "\n",
    "# Exibição dos resultados\n",
    "print(\"============================================\")\n",
    "print(\"1. Salário bruto: R$ {:.2f}\".format(salario_bruto))\n",
    "print(\"2. Valor pago ao IR (11%): R$ {:.2f}\".format(ir))\n",
    "print(\"3. Valor pago ao INSS (8%): R$ {:.2f}\".format(inss))\n",
    "print(\"4. Valor pago ao sindicato (5%): R$ {:.2f}\".format(sindicato))\n",
    "print(\"5. Salário líquido: R$ {:.2f}\".format(salario_liquido))\n",
    "print(\"============================================\")"
   ]
  }
 ],
 "metadata": {
  "kernelspec": {
   "display_name": ".venv",
   "language": "python",
   "name": "python3"
  },
  "language_info": {
   "codemirror_mode": {
    "name": "ipython",
    "version": 3
   },
   "file_extension": ".py",
   "mimetype": "text/x-python",
   "name": "python",
   "nbconvert_exporter": "python",
   "pygments_lexer": "ipython3",
   "version": "3.13.1"
  }
 },
 "nbformat": 4,
 "nbformat_minor": 2
}
