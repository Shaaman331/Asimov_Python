{
 "cells": [
  {
   "cell_type": "code",
   "execution_count": 5,
   "metadata": {},
   "outputs": [
    {
     "name": "stdout",
     "output_type": "stream",
     "text": [
      "Calcule o valor das notas e apresente a médias dos alunos\n"
     ]
    },
    {
     "ename": "ValueError",
     "evalue": "could not convert string to float: ''",
     "output_type": "error",
     "traceback": [
      "\u001b[1;31m---------------------------------------------------------------------------\u001b[0m",
      "\u001b[1;31mValueError\u001b[0m                                Traceback (most recent call last)",
      "Cell \u001b[1;32mIn[5], line 2\u001b[0m\n\u001b[0;32m      1\u001b[0m \u001b[38;5;28mprint\u001b[39m(\u001b[38;5;124m\"\u001b[39m\u001b[38;5;124mCalcule o valor das notas e apresente a médias dos alunos\u001b[39m\u001b[38;5;124m\"\u001b[39m)\n\u001b[1;32m----> 2\u001b[0m n1 \u001b[38;5;241m=\u001b[39m \u001b[38;5;28;43mfloat\u001b[39;49m\u001b[43m(\u001b[49m\u001b[38;5;28;43minput\u001b[39;49m\u001b[43m(\u001b[49m\u001b[38;5;124;43m\"\u001b[39;49m\u001b[38;5;124;43mInforme a nota do aluno 01: \u001b[39;49m\u001b[38;5;124;43m\"\u001b[39;49m\u001b[43m)\u001b[49m\u001b[43m)\u001b[49m\n\u001b[0;32m      3\u001b[0m n2 \u001b[38;5;241m=\u001b[39m \u001b[38;5;28mfloat\u001b[39m(\u001b[38;5;28minput\u001b[39m(\u001b[38;5;124m\"\u001b[39m\u001b[38;5;124mInforme a nota do aluno 02: \u001b[39m\u001b[38;5;124m\"\u001b[39m))\n\u001b[0;32m      4\u001b[0m media \u001b[38;5;241m=\u001b[39m (n1 \u001b[38;5;241m+\u001b[39m n2) \u001b[38;5;241m/\u001b[39m \u001b[38;5;241m2\u001b[39m\n",
      "\u001b[1;31mValueError\u001b[0m: could not convert string to float: ''"
     ]
    }
   ],
   "source": [
    "print(\"Calcule o valor das notas e apresente a médias dos alunos\")\n",
    "n1 = float(input(\"Informe a nota do aluno 01: \"))\n",
    "n2 = float(input(\"Informe a nota do aluno 02: \"))\n",
    "media = (n1 + n2) / 2\n",
    "print(f\"A média dos alunos é {media:.2f}\")\n",
    "print()\n",
    "\n",
    "if media >= 10:\n",
    "    print(\"Aluno aprovado, com distinção!\")\n",
    "elif media >= 7:\n",
    "    print(\"Aluno Aprovado!\")\n",
    "else:\n",
    "    print(\"Aluno Reprovado!\")\n",
    "\n",
    "print()\n",
    "\n",
    "print(\"Digite um script que leia 3 números e mostre o maior\")\n",
    "list_nuns = []\n",
    "for i in range(3):\n",
    "    num = float(input(f\"Informe o {i+1}º número: \"))\n",
    "    list_nuns.append(num)\n",
    "\n",
    "    list_nuns.sort()\n",
    "    print(f\"O maior número é {list_nuns[-1]}\")\n",
    "    print(f\"O menor número é {list_nuns[0]}\")\n",
    "    print()\n",
    "\n"
   ]
  },
  {
   "cell_type": "code",
   "execution_count": 7,
   "metadata": {},
   "outputs": [
    {
     "name": "stdout",
     "output_type": "stream",
     "text": [
      "Nome na vertical em escada\n",
      "\n",
      "D\n",
      "Do\n",
      "Dou\n",
      "Doug\n",
      "Dougl\n",
      "Dougla\n",
      "Douglas\n",
      "\n"
     ]
    }
   ],
   "source": [
    "print(\"Nome na vertical em escada\")\n",
    "nome = input(\"Digite o seu nome: \")\n",
    "for i in range(len(nome) + 1):\n",
    "    print(nome[:i])\n",
    "print()"
   ]
  },
  {
   "cell_type": "code",
   "execution_count": 9,
   "metadata": {},
   "outputs": [
    {
     "name": "stdout",
     "output_type": "stream",
     "text": [
      "1\n",
      "1\n",
      "2\n",
      "3\n",
      "5\n",
      "8\n",
      "13\n",
      "21\n",
      "34\n",
      "55\n",
      "89\n",
      "144\n"
     ]
    }
   ],
   "source": [
    "n = int(input(\"Qual o tamanho da sequencia de fibonacci que você deseja? \"))\n",
    "v0  = 0 \n",
    "v1 = 1\n",
    "v = 1\n",
    "print(1)\n",
    "\n",
    "for i in range(n + 1):\n",
    "    print(v)\n",
    "    v0 = v1\n",
    "    v1 = v\n",
    "    v = v1 + v0\n"
   ]
  },
  {
   "cell_type": "code",
   "execution_count": 6,
   "metadata": {},
   "outputs": [
    {
     "name": "stdout",
     "output_type": "stream",
     "text": [
      "Informe o nome :\n",
      "\n",
      "Informe a idade:\n",
      "\n",
      "Informe o salario:\n",
      "Salario valido\n",
      "\n",
      "Informe o sexo:\n",
      "Sexo invalido, deve ser M ou F.\n",
      "Informe o sexo:\n",
      "Sexo valido\n",
      "DADOS VALIDOS\n"
     ]
    }
   ],
   "source": [
    "print(\"Informe o nome :\")\n",
    "nome = input()\n",
    "while len(nome) <=3:\n",
    "    print(\"Nome invalido,  deve conter mais de 3 caracteres.\")\n",
    "    print(\"Informe o nome:\")\n",
    "    nome = input()\n",
    "    print(\"Nome valido\")\n",
    "\n",
    "print()\n",
    "print(\"Informe a idade:\")\n",
    "idade = int(input())\n",
    "while (idade <=0) or (idade >=150):\n",
    "    print(\"Idade invalida,  deve estar entre 0 e 150.\")\n",
    "    print(\"Informe a idade:\")\n",
    "    idade = input()\n",
    "    print(\"Idade valida\")\n",
    "\n",
    "print()\n",
    "print(\"Informe o salario:\")\n",
    "salario = int(input())\n",
    "\n",
    "while salario <= 0:\n",
    "    print(\"Salario invalido, deve ser maior que 0.\")\n",
    "    print(\"Informe o salario:\")\n",
    "    salario = int(input())\n",
    "\n",
    "print(\"Salario valido\")\n",
    "print()\n",
    "\n",
    "print(\"Informe o sexo:\")\n",
    "sexo = input()\n",
    "while sexo not in [\"M\",\"F\",\"m\",\"f\"]:\n",
    "    print(\"Sexo invalido, deve ser M ou F.\")\n",
    "    print(\"Informe o sexo:\")\n",
    "    sexo = input()\n",
    "    print(\"Sexo valido\")\n",
    "    print(\"DADOS VALIDOS\")\n",
    "\n",
    "\n",
    "\n",
    "\n",
    "\n",
    "\n",
    "\n",
    "\n",
    "\n",
    "\n",
    "\n"
   ]
  },
  {
   "cell_type": "code",
   "execution_count": null,
   "metadata": {},
   "outputs": [],
   "source": [
    "print(\"Informe o numero: \")\n",
    "n = int(input())\n",
    "check = 0\n",
    "for i in range(2, n):\n",
    "    check = 0\n",
    "    break\n",
    "if check == 0:\n",
    "    print(\"O número é primo.\")\n",
    "else:\n",
    "    print(\"O número não é primo.\")\n",
    "    "
   ]
  }
 ],
 "metadata": {
  "kernelspec": {
   "display_name": "Python 3",
   "language": "python",
   "name": "python3"
  },
  "language_info": {
   "codemirror_mode": {
    "name": "ipython",
    "version": 3
   },
   "file_extension": ".py",
   "mimetype": "text/x-python",
   "name": "python",
   "nbconvert_exporter": "python",
   "pygments_lexer": "ipython3",
   "version": "3.13.1"
  }
 },
 "nbformat": 4,
 "nbformat_minor": 2
}
