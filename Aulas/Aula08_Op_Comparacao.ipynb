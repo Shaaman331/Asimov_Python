{
 "cells": [
  {
   "cell_type": "code",
   "execution_count": 2,
   "metadata": {},
   "outputs": [
    {
     "data": {
      "text/plain": [
       "False"
      ]
     },
     "execution_count": 2,
     "metadata": {},
     "output_type": "execute_result"
    }
   ],
   "source": [
    "#Operadores de Comparação em Python\n",
    "#Igual a (==)\n",
    "5 == 5  # True\n",
    "\"hello\" == \"hello\"  # True\n",
    "5 == 3  # False\n",
    "#Diferente de (!=)\n",
    "5 != 3  # True\n",
    "\"hello\" != \"world\"  # True\n",
    "5 != 5  # False\n",
    "#Maior que (>)\n",
    "10 > 5  # True\n",
    "3 > 5  # False\n",
    "#Menor que (<)\n",
    "3 < 5  # True\n",
    "10 < 5  # False\n",
    "#Maior ou igual a (>=)\n",
    "5 >= 5  # True\n",
    "10 >= 5  # True\n",
    "3 >= 5  # False\n",
    "#Menor ou igual a (<=)\n",
    "5 <= 5  # True\n",
    "3 <= 5  # True\n",
    "10 <= 5  # False\n"
   ]
  },
  {
   "cell_type": "code",
   "execution_count": 2,
   "metadata": {},
   "outputs": [
    {
     "name": "stdout",
     "output_type": "stream",
     "text": [
      "False\n",
      "True\n",
      "True\n",
      "False\n",
      "True\n",
      "False\n"
     ]
    }
   ],
   "source": [
    "a = 10\n",
    "b = 5\n",
    "\n",
    "print(a == b)  # False\n",
    "print(a != b)  # True\n",
    "print(a > b)   # True\n",
    "print(a < b)   # False\n",
    "print(a >= b)  # True\n",
    "print(a <= b)  # False"
   ]
  },
  {
   "cell_type": "code",
   "execution_count": 3,
   "metadata": {},
   "outputs": [
    {
     "name": "stdout",
     "output_type": "stream",
     "text": [
      "True\n",
      "True\n",
      "False\n",
      "True\n",
      "True\n",
      "True\n"
     ]
    }
   ],
   "source": [
    "#Exemplos com string\n",
    "print(\"apple\" == \"apple\")  # True\n",
    "print(\"apple\" != \"banana\")  # True\n",
    "print(\"apple\" > \"banana\")  # False (ordem alfabética)\n",
    "\n",
    "#Exemplos com lista \n",
    "print([1, 2, 3] == [1, 2, 3])  # True\n",
    "print([1, 2, 3] != [4, 5, 6])  # True\n",
    "print([1, 2, 3] < [1, 2, 4])   # True (compara elemento por elemento)"
   ]
  },
  {
   "cell_type": "code",
   "execution_count": null,
   "metadata": {},
   "outputs": [],
   "source": []
  },
  {
   "cell_type": "code",
   "execution_count": null,
   "metadata": {},
   "outputs": [],
   "source": []
  },
  {
   "cell_type": "code",
   "execution_count": null,
   "metadata": {},
   "outputs": [],
   "source": []
  },
  {
   "cell_type": "code",
   "execution_count": null,
   "metadata": {},
   "outputs": [],
   "source": []
  }
 ],
 "metadata": {
  "kernelspec": {
   "display_name": ".venv",
   "language": "python",
   "name": "python3"
  },
  "language_info": {
   "codemirror_mode": {
    "name": "ipython",
    "version": 3
   },
   "file_extension": ".py",
   "mimetype": "text/x-python",
   "name": "python",
   "nbconvert_exporter": "python",
   "pygments_lexer": "ipython3",
   "version": "3.13.1"
  }
 },
 "nbformat": 4,
 "nbformat_minor": 2
}
