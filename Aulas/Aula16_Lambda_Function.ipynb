{
 "cells": [
  {
   "cell_type": "code",
   "execution_count": null,
   "metadata": {},
   "outputs": [],
   "source": [
    "print(\"Função Lambda\")\n",
    "dobra = lambda x: x * 2\n",
    "print(dobra(5))  # Saída: 10\n",
    "print()\n",
    "\n",
    "print(\"Função lambda com multiplos argumentos\")\n",
    "soma = lambda a, b: a + b\n",
    "print(soma(3, 7))  # Saída: 10\n",
    "print()\n",
    "\n",
    "print(\"Função lambda sem argumentos\")\n",
    "mensagem = lambda: \"Olá, mundo!\"\n",
    "print(mensagem())  # Saída: Olá, mundo!\n",
    "print()\n",
    "\n",
    "print(\"Função map com função lambda\")\n",
    "numeros = [1, 2, 3, 4, 5]\n",
    "quadrados = list(map(lambda x: x**2, numeros))\n",
    "print(quadrados)  # Saída: [1, 4, 9, 16, 25]\n",
    "print()\n",
    "\n",
    "print(\"Função filter com função lambda\")\n",
    "numeros = [1, 2, 3, 4, 5, 6]\n",
    "pares = list(filter(lambda x: x % 2 == 0, numeros))\n",
    "print(pares)  # Saída: [2, 4, 6]\n",
    "print()\n",
    "\n",
    "print(\"Função sorte com função lambda\")\n",
    "pessoas = [(\"João\", 25), (\"Maria\", 30), (\"Pedro\", 20)]\n",
    "ordenado = sorted(pessoas, key=lambda x: x[1])\n",
    "print(ordenado)  # Saída: [('Pedro', 20), ('João', 25), ('Maria', 30)]\n"
   ]
  }
 ],
 "metadata": {
  "kernelspec": {
   "display_name": "Python 3",
   "language": "python",
   "name": "python3"
  },
  "language_info": {
   "name": "python",
   "version": "3.13.1"
  }
 },
 "nbformat": 4,
 "nbformat_minor": 2
}
