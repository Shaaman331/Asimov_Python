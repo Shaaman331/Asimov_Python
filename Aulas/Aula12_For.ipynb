{
 "cells": [
  {
   "cell_type": "code",
   "execution_count": 2,
   "metadata": {},
   "outputs": [
    {
     "name": "stdout",
     "output_type": "stream",
     "text": [
      "Laço For\n",
      "0\n",
      "1\n",
      "2\n",
      "3\n",
      "4\n",
      "5\n",
      "6\n",
      "7\n",
      "8\n",
      "9\n"
     ]
    }
   ],
   "source": [
    "print(\"Laço For\")\n",
    "list(range(10))\n",
    "for i in range(10):\n",
    "    print(i)\n",
    "\n",
    "print(\"Exemplos praticos\")\n",
    "print()\n",
    "print(\"Interando sobre listas\")\n",
    "frutas = [\"maçã\", \"banana\", \"laranja\"]\n",
    "for fruta in frutas:\n",
    "    print(fruta)\n",
    "print()\n",
    "\n",
    "print(\"Interando sobre strings\")\n",
    "palavra = \"Python\"\n",
    "for letra in palavra:\n",
    "    print(letra)\n",
    "\n",
    "print()\n",
    "\n",
    "print(\"Interando sobre numeros\")\n",
    "for i in range(5):\n",
    "    print(i)\n",
    "\n",
    "print()\n",
    "\n",
    "print(\"Interando sobre dicionarios\")\n",
    "dados = {\"nome\": \"João\", \"idade\": 30, \"cidade\": \"São Paulo\"}\n",
    "for chave, valor in dados.items():\n",
    "    print(f\"{chave}: {valor}\")\n",
    "\n",
    "\n",
    "\n",
    "\n",
    "\n",
    "\n",
    "\n",
    "\n",
    "\n",
    "\n",
    "\n"
   ]
  }
 ],
 "metadata": {
  "kernelspec": {
   "display_name": "Python 3",
   "language": "python",
   "name": "python3"
  },
  "language_info": {
   "codemirror_mode": {
    "name": "ipython",
    "version": 3
   },
   "file_extension": ".py",
   "mimetype": "text/x-python",
   "name": "python",
   "nbconvert_exporter": "python",
   "pygments_lexer": "ipython3",
   "version": "3.13.1"
  }
 },
 "nbformat": 4,
 "nbformat_minor": 2
}
