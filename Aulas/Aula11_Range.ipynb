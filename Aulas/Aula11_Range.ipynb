{
 "cells": [
  {
   "cell_type": "code",
   "execution_count": 2,
   "metadata": {},
   "outputs": [
    {
     "name": "stdout",
     "output_type": "stream",
     "text": [
      "Range\n",
      "Range stop\n",
      "0\n",
      "1\n",
      "2\n",
      "3\n",
      "4\n",
      "\n",
      "Range Start Stop\n",
      "5\n",
      "6\n",
      "7\n",
      "8\n",
      "9\n",
      "\n",
      "Range Start Stop Step\n",
      "1\n",
      "3\n",
      "5\n",
      "7\n",
      "9\n",
      "\n",
      "Exemplos praticos\n",
      "10\n",
      "9\n",
      "8\n",
      "7\n",
      "6\n",
      "5\n",
      "4\n",
      "3\n",
      "2\n",
      "1\n",
      "FOGO!\n",
      "\n",
      "Gerando uma lista de numeros\n",
      "[1, 2, 3, 4, 5, 6, 7, 8, 9, 10]\n",
      "\n",
      "Interando sobre indices de uma lista\n",
      "Índice 0: maçã\n",
      "Índice 1: banana\n",
      "Índice 2: laranja\n"
     ]
    }
   ],
   "source": [
    "print(\"Range\")\n",
    "print(\"Range stop\") \n",
    "for i in range(5):\n",
    "    print(i)\n",
    "print()\n",
    "\n",
    "print(\"Range Start Stop\")\n",
    "for i in range(5, 10):\n",
    "    print(i)\n",
    "print()\n",
    "\n",
    "print(\"Range Start Stop Step\")\n",
    "\n",
    "for i in range(1, 10, 2):\n",
    "    print(i)\n",
    "print()\n",
    "\n",
    "print(\"Exemplos praticos\")\n",
    "\n",
    "for i in range(10, 0, -1):\n",
    "    print(i)\n",
    "print(\"FOGO!\")\n",
    "print()\n",
    "\n",
    "print(\"Gerando uma lista de numeros\")\n",
    "numeros = list(range(1, 11))\n",
    "print(numeros)  # [1, 2, 3, 4,\n",
    "print()\n",
    "\n",
    "print(\"Interando sobre indices de uma lista\")\n",
    "frutas = [\"maçã\", \"banana\", \"laranja\"]\n",
    "for i in range(len(frutas)):\n",
    "    print(f\"Índice {i}: {frutas[i]}\")\n",
    "\n"
   ]
  }
 ],
 "metadata": {
  "kernelspec": {
   "display_name": "Python 3",
   "language": "python",
   "name": "python3"
  },
  "language_info": {
   "codemirror_mode": {
    "name": "ipython",
    "version": 3
   },
   "file_extension": ".py",
   "mimetype": "text/x-python",
   "name": "python",
   "nbconvert_exporter": "python",
   "pygments_lexer": "ipython3",
   "version": "3.13.1"
  }
 },
 "nbformat": 4,
 "nbformat_minor": 2
}
