{
 "cells": [
  {
   "cell_type": "code",
   "execution_count": 5,
   "metadata": {},
   "outputs": [
    {
     "name": "stdout",
     "output_type": "stream",
     "text": [
      "Programa de temperatura\n",
      "Está frio\n"
     ]
    }
   ],
   "source": [
    "print(\"Programa de temperatura\")\n",
    "temp = int(input(\"Digite a temperatura: \"))  # Corrigido: int(input(...))\n",
    "\n",
    "if temp > 30:\n",
    "    print(\"Está calor\")\n",
    "elif temp == 30:  # Adicionado: condição para temperatura igual a 30\n",
    "    print(\"Está agradável\")\n",
    "else:\n",
    "    print(\"Está frio\")\n"
   ]
  }
 ],
 "metadata": {
  "kernelspec": {
   "display_name": "Python 3",
   "language": "python",
   "name": "python3"
  },
  "language_info": {
   "codemirror_mode": {
    "name": "ipython",
    "version": 3
   },
   "file_extension": ".py",
   "mimetype": "text/x-python",
   "name": "python",
   "nbconvert_exporter": "python",
   "pygments_lexer": "ipython3",
   "version": "3.13.1"
  }
 },
 "nbformat": 4,
 "nbformat_minor": 2
}
