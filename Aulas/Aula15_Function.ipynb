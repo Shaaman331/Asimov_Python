{
 "cells": [
  {
   "cell_type": "code",
   "execution_count": 4,
   "metadata": {},
   "outputs": [
    {
     "name": "stdout",
     "output_type": "stream",
     "text": [
      "Funções\n",
      "Olá, mundo!\n",
      "\n",
      "Paremetros e argumentos\n",
      "Olá, João!\n",
      "\n",
      "Retornando valores\n",
      "8\n",
      "\n",
      "Funções com múltiplos retornos\n",
      "(15, 5)\n",
      "\n",
      "Desempacotar o valor retornado\n",
      "15\n",
      "5\n",
      "\n",
      "Funções com numero variável de argumentos\n",
      "Com *args\n",
      "10\n",
      "\n",
      "Com *kwargs\n",
      "nome: João\n",
      "idade: 25\n"
     ]
    }
   ],
   "source": [
    "print(\"Funções\")\n",
    "def saudacao():\n",
    "    print(\"Olá, mundo!\")\n",
    "saudacao()\n",
    "print()\n",
    "\n",
    "print(\"Paremetros e argumentos\")\n",
    "def saudacao(nome):\n",
    "    print(f\"Olá, {nome}!\")\n",
    "\n",
    "saudacao(\"João\")\n",
    "\n",
    "print()\n",
    "print(\"Retornando valores\")\n",
    "def soma(a, b):\n",
    "    return a + b\n",
    "\n",
    "resultado = soma(3, 5)\n",
    "print(resultado)  # Saída: 8\n",
    "print()\n",
    "\n",
    "print(\"Funções com múltiplos retornos\")\n",
    "def operacoes(a, b):\n",
    "    soma = a + b\n",
    "    subtracao = a - b\n",
    "    return soma, subtracao\n",
    "\n",
    "resultado = operacoes(10, 5)\n",
    "print(resultado)  # Saída: (15, 5)\n",
    "print()\n",
    "\n",
    "print(\"Desempacotar o valor retornado\")\n",
    "soma, subtracao = operacoes(10, 5)\n",
    "print(soma)       # Saída: 15\n",
    "print(subtracao)  # Saída: 5\n",
    "print()\n",
    "\n",
    "print(\"Funções com numero variável de argumentos\")\n",
    "print(\"Com *args\")\n",
    "def soma_tudo(*args):\n",
    "    return sum(args)\n",
    "\n",
    "print(soma_tudo(1, 2, 3, 4))  # Saída: 10\n",
    "print()\n",
    "\n",
    "print(\"Com *kwargs\")\n",
    "def exibe_info(**kwargs):\n",
    "    for chave, valor in kwargs.items():\n",
    "        print(f\"{chave}: {valor}\")\n",
    "\n",
    "exibe_info(nome=\"João\", idade=25)\n",
    "# Saída:\n",
    "# nome: João\n",
    "# idade: 25"
   ]
  },
  {
   "cell_type": "code",
   "execution_count": null,
   "metadata": {},
   "outputs": [],
   "source": []
  }
 ],
 "metadata": {
  "kernelspec": {
   "display_name": "Python 3",
   "language": "python",
   "name": "python3"
  },
  "language_info": {
   "codemirror_mode": {
    "name": "ipython",
    "version": 3
   },
   "file_extension": ".py",
   "mimetype": "text/x-python",
   "name": "python",
   "nbconvert_exporter": "python",
   "pygments_lexer": "ipython3",
   "version": "3.13.1"
  }
 },
 "nbformat": 4,
 "nbformat_minor": 2
}
