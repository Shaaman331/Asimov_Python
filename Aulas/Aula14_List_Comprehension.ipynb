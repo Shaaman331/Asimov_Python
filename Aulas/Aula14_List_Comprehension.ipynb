{
 "cells": [
  {
   "cell_type": "code",
   "execution_count": 5,
   "metadata": {},
   "outputs": [
    {
     "name": "stdout",
     "output_type": "stream",
     "text": [
      "List Compression \n",
      "['H']\n",
      "['H', 'e']\n",
      "['H', 'e', 'l']\n",
      "['H', 'e', 'l', 'l']\n",
      "['H', 'e', 'l', 'l', 'o']\n",
      "['H', 'e', 'l', 'l', 'o', ',']\n",
      "['H', 'e', 'l', 'l', 'o', ',', ' ']\n",
      "['H', 'e', 'l', 'l', 'o', ',', ' ', 'W']\n",
      "['H', 'e', 'l', 'l', 'o', ',', ' ', 'W', 'o']\n",
      "['H', 'e', 'l', 'l', 'o', ',', ' ', 'W', 'o', 'r']\n",
      "['H', 'e', 'l', 'l', 'o', ',', ' ', 'W', 'o', 'r', 'l']\n",
      "['H', 'e', 'l', 'l', 'o', ',', ' ', 'W', 'o', 'r', 'l', 'd']\n",
      "['H', 'e', 'l', 'l', 'o', ',', ' ', 'W', 'o', 'r', 'l', 'd', '!']\n",
      "\n",
      "['H', 'e', 'l', 'l', 'o', ',', ' ', 'W', 'o', 'r', 'l', 'd', '!']\n",
      "[0, 1, 4, 9, 16, 25, 36, 49, 64, 81]\n",
      "[0, 4, 16, 36, 64]\n"
     ]
    }
   ],
   "source": [
    "print(\"List Comprehension \")\n",
    "word = \"Hello, World!\"\n",
    "list_words = []\n",
    "for w in word:\n",
    "    list_words.append(w)\n",
    "    print(list_words)\n",
    "\n",
    "print()\n",
    "\n",
    "list_words = [(w) for w in word]\n",
    "print(list_words)\n",
    "print()\n",
    "\n",
    "list_2 = [(X ** 2) for X in range(10)]\n",
    "print(list_2)\n",
    "print()\n",
    "\n",
    "list_2 = [X ** 2 for X in range(10) if X % 2 == 0]\n",
    "print(list_2)\n",
    "print()\n",
    "\n",
    "matriz = [[i * j for j in range(1, 4)] for i in range(1, 4)]\n",
    "print(matriz)"
   ]
  },
  {
   "cell_type": "code",
   "execution_count": 1,
   "metadata": {},
   "outputs": [
    {
     "name": "stdout",
     "output_type": "stream",
     "text": [
      "Medindo o tempo de execução\n",
      "Tempo com loop tradicional: 0.1523 segundos\n",
      "Tempo com list comprehension: 0.0887 segundos\n"
     ]
    }
   ],
   "source": [
    "print(\"Medindo o tempo de execução\")\n",
    "import time\n",
    "\n",
    "# Loop tradicional\n",
    "inicio = time.time()\n",
    "quadrados = []\n",
    "for x in range(1, 1000000):\n",
    "    quadrados.append(x**2)\n",
    "fim = time.time()\n",
    "print(f\"Tempo com loop tradicional: {fim - inicio:.4f} segundos\")\n",
    "\n",
    "# List comprehension\n",
    "inicio = time.time()\n",
    "quadrados = [x**2 for x in range(1, 1000000)]\n",
    "fim = time.time()\n",
    "print(f\"Tempo com list comprehension: {fim - inicio:.4f} segundos\")"
   ]
  }
 ],
 "metadata": {
  "kernelspec": {
   "display_name": "Python 3",
   "language": "python",
   "name": "python3"
  },
  "language_info": {
   "codemirror_mode": {
    "name": "ipython",
    "version": 3
   },
   "file_extension": ".py",
   "mimetype": "text/x-python",
   "name": "python",
   "nbconvert_exporter": "python",
   "pygments_lexer": "ipython3",
   "version": "3.13.1"
  }
 },
 "nbformat": 4,
 "nbformat_minor": 2
}
