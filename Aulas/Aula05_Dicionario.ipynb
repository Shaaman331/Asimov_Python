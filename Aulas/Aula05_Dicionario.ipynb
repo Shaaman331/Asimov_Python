{
 "cells": [
  {
   "cell_type": "code",
   "execution_count": 4,
   "metadata": {},
   "outputs": [
    {
     "name": "stdout",
     "output_type": "stream",
     "text": [
      "João\n"
     ]
    }
   ],
   "source": [
    "#Dicionario \n",
    "meu_dicionario = {\"nome\": \"João\", \"idade\": 25, \"cidade\": \"São Paulo\", \"filhos\":\"Lucca\" \"Raquel\" \"Thiago\"}\n",
    "print(meu_dicionario[\"nome\"]) # acessando o valor de uma chave"
   ]
  }
 ],
 "metadata": {
  "kernelspec": {
   "display_name": "Python 3",
   "language": "python",
   "name": "python3"
  },
  "language_info": {
   "codemirror_mode": {
    "name": "ipython",
    "version": 3
   },
   "file_extension": ".py",
   "mimetype": "text/x-python",
   "name": "python",
   "nbconvert_exporter": "python",
   "pygments_lexer": "ipython3",
   "version": "3.13.1"
  }
 },
 "nbformat": 4,
 "nbformat_minor": 2
}
