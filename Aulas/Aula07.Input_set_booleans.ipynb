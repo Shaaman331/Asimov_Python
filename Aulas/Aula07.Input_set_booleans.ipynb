{
 "cells": [
  {
   "cell_type": "code",
   "execution_count": 6,
   "metadata": {},
   "outputs": [
    {
     "name": "stdout",
     "output_type": "stream",
     "text": [
      "Olá, Tarcisio! Bem-vindo ao Jupyter Notebook.\n"
     ]
    }
   ],
   "source": [
    "# Solicita ao usuário que insira seu nome\n",
    "nome = input(\"Digite seu nome: \")\n",
    "\n",
    "# Exibe uma mensagem com o nome inserido\n",
    "print(f\"Olá, {nome}! Bem-vindo ao Jupyter Notebook.\")"
   ]
  },
  {
   "cell_type": "code",
   "execution_count": 5,
   "metadata": {},
   "outputs": [
    {
     "name": "stdout",
     "output_type": "stream",
     "text": [
      "{1, 2, 3, 4, 5, 6, 7, 8}\n",
      "{1, 2, 3, 4, 5, 6, 7, 8, 9}\n",
      "False\n",
      "True\n",
      "False\n"
     ]
    }
   ],
   "source": [
    "# Lista original\n",
    "l = [1, 2, 3, 3, 3, 4, 4, 4, 4, 5, 5, 5, 5, 6, 7, 8]\n",
    "\n",
    "# Convertendo a lista para um set para remover duplicatas\n",
    "l_sem_duplicatas = set(l)\n",
    "\n",
    "# Exibindo o resultado\n",
    "print(l_sem_duplicatas)\n",
    "\n",
    "l_sem_duplicatas.add(9)\n",
    "print(l_sem_duplicatas)\n",
    "\n",
    "#Booleano\n",
    "a = True\n",
    "b = False\n",
    "print(a and b) \n",
    "print(a)\n",
    "print(b)\n"
   ]
  },
  {
   "cell_type": "code",
   "execution_count": 2,
   "metadata": {},
   "outputs": [
    {
     "name": "stdout",
     "output_type": "stream",
     "text": [
      "Você tem 33 anos.\n"
     ]
    }
   ],
   "source": [
    "# Solicita ao usuário que insira sua idade\n",
    "idade = int(input(\"Digite sua idade: \"))\n",
    "\n",
    "# Exibe uma mensagem com a idade inserida\n",
    "print(f\"Você tem {idade} anos.\")"
   ]
  },
  {
   "cell_type": "code",
   "execution_count": 3,
   "metadata": {},
   "outputs": [
    {
     "name": "stdout",
     "output_type": "stream",
     "text": [
      "Você tem 33 anos.\n"
     ]
    }
   ],
   "source": [
    "# Solicita ao usuário que insira sua idade\n",
    "idade = int(input(\"Digite sua idade: \"))\n",
    "\n",
    "# Exibe uma mensagem com a idade inserida\n",
    "print(f\"Você tem {idade} anos.\")"
   ]
  }
 ],
 "metadata": {
  "kernelspec": {
   "display_name": "Python 3",
   "language": "python",
   "name": "python3"
  },
  "language_info": {
   "codemirror_mode": {
    "name": "ipython",
    "version": 3
   },
   "file_extension": ".py",
   "mimetype": "text/x-python",
   "name": "python",
   "nbconvert_exporter": "python",
   "pygments_lexer": "ipython3",
   "version": "3.13.1"
  }
 },
 "nbformat": 4,
 "nbformat_minor": 2
}
